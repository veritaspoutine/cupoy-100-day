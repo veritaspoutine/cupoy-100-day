{
 "cells": [
  {
   "cell_type": "markdown",
   "metadata": {},
   "source": [
    "## [作業目標]\n",
    "了解機器學習適合應用的領域與範疇。"
   ]
  },
  {
   "cell_type": "markdown",
   "metadata": {},
   "source": [
    "## [作業重點]\n",
    "透過瞭解機器學習的運作方式，找出非常適用機器學習應用的領域及其原因"
   ]
  },
  {
   "cell_type": "markdown",
   "metadata": {},
   "source": [
    "## 作業\n",
    "請找出一個你認為機器學習可以發光發熱的領域並闡述原因? "
   ]
  },
  {
   "cell_type": "code",
   "execution_count": null,
   "metadata": {},
   "outputs": [],
   "source": [
    "WHAT: 機器學習的核心價值在於賦予機器自我學習的能力，我認爲這個特性非常適合用來做太空隕石/行星採礦，精煉自動化。\n",
    "WHY: 太空發展是人類文明發展必要的方向，如果礦物能在太空中直接取得，這就表示後續資源提取，精煉，製造可以直接在太空執行，省下從地球至太空的成本。當然採礦的部分一定是接近 100% 的自動化(因為在地球上已經是)，也因為太空環境本身對人類的限制，減少人爲介入不僅是成本考量，更是安全考量。"
   ]
  }
 ],
 "metadata": {
  "kernelspec": {
   "display_name": "Python 3",
   "language": "python",
   "name": "python3"
  },
  "language_info": {
   "codemirror_mode": {
    "name": "ipython",
    "version": 3
   },
   "file_extension": ".py",
   "mimetype": "text/x-python",
   "name": "python",
   "nbconvert_exporter": "python",
   "pygments_lexer": "ipython3",
   "version": "3.6.6"
  }
 },
 "nbformat": 4,
 "nbformat_minor": 2
}